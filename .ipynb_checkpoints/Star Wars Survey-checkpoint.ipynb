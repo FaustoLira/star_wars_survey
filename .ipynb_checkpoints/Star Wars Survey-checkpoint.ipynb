{
 "cells": [
  {
   "cell_type": "markdown",
   "metadata": {},
   "source": [
    "# Star Wars Survey"
   ]
  },
  {
   "cell_type": "code",
   "execution_count": 1,
   "metadata": {},
   "outputs": [],
   "source": [
    "import pandas as pd\n",
    "import numpy as np\n",
    "%matplotlib inline\n",
    "import matplotlib.pyplot as plt\n",
    "import matplotlib.patches as mpatches\n",
    "import seaborn as sns"
   ]
  },
  {
   "cell_type": "code",
   "execution_count": 2,
   "metadata": {},
   "outputs": [],
   "source": [
    "star_wars = pd.read_csv('star_wars.csv', encoding='ISO-8859-1')"
   ]
  },
  {
   "cell_type": "code",
   "execution_count": 3,
   "metadata": {},
   "outputs": [],
   "source": [
    "pd.set_option('display.max_columns', 38)"
   ]
  },
  {
   "cell_type": "markdown",
   "metadata": {},
   "source": [
    "---\n",
    "## Dataset overview"
   ]
  },
  {
   "cell_type": "code",
   "execution_count": 4,
   "metadata": {},
   "outputs": [
    {
     "data": {
      "text/html": [
       "<div>\n",
       "<style scoped>\n",
       "    .dataframe tbody tr th:only-of-type {\n",
       "        vertical-align: middle;\n",
       "    }\n",
       "\n",
       "    .dataframe tbody tr th {\n",
       "        vertical-align: top;\n",
       "    }\n",
       "\n",
       "    .dataframe thead th {\n",
       "        text-align: right;\n",
       "    }\n",
       "</style>\n",
       "<table border=\"1\" class=\"dataframe\">\n",
       "  <thead>\n",
       "    <tr style=\"text-align: right;\">\n",
       "      <th></th>\n",
       "      <th>RespondentID</th>\n",
       "      <th>Have you seen any of the 6 films in the Star Wars franchise?</th>\n",
       "      <th>Do you consider yourself to be a fan of the Star Wars film franchise?</th>\n",
       "      <th>Which of the following Star Wars films have you seen? Please select all that apply.</th>\n",
       "      <th>Unnamed: 4</th>\n",
       "      <th>Unnamed: 5</th>\n",
       "      <th>Unnamed: 6</th>\n",
       "      <th>Unnamed: 7</th>\n",
       "      <th>Unnamed: 8</th>\n",
       "      <th>Please rank the Star Wars films in order of preference with 1 being your favorite film in the franchise and 6 being your least favorite film.</th>\n",
       "      <th>Unnamed: 10</th>\n",
       "      <th>Unnamed: 11</th>\n",
       "      <th>Unnamed: 12</th>\n",
       "      <th>Unnamed: 13</th>\n",
       "      <th>Unnamed: 14</th>\n",
       "      <th>Please state whether you view the following characters favorably, unfavorably, or are unfamiliar with him/her.</th>\n",
       "      <th>Unnamed: 16</th>\n",
       "      <th>Unnamed: 17</th>\n",
       "      <th>Unnamed: 18</th>\n",
       "      <th>Unnamed: 19</th>\n",
       "      <th>Unnamed: 20</th>\n",
       "      <th>Unnamed: 21</th>\n",
       "      <th>Unnamed: 22</th>\n",
       "      <th>Unnamed: 23</th>\n",
       "      <th>Unnamed: 24</th>\n",
       "      <th>Unnamed: 25</th>\n",
       "      <th>Unnamed: 26</th>\n",
       "      <th>Unnamed: 27</th>\n",
       "      <th>Unnamed: 28</th>\n",
       "      <th>Which character shot first?</th>\n",
       "      <th>Are you familiar with the Expanded Universe?</th>\n",
       "      <th>Do you consider yourself to be a fan of the Expanded Universe?æ</th>\n",
       "      <th>Do you consider yourself to be a fan of the Star Trek franchise?</th>\n",
       "      <th>Gender</th>\n",
       "      <th>Age</th>\n",
       "      <th>Household Income</th>\n",
       "      <th>Education</th>\n",
       "      <th>Location (Census Region)</th>\n",
       "    </tr>\n",
       "  </thead>\n",
       "  <tbody>\n",
       "    <tr>\n",
       "      <th>0</th>\n",
       "      <td>NaN</td>\n",
       "      <td>Response</td>\n",
       "      <td>Response</td>\n",
       "      <td>Star Wars: Episode I  The Phantom Menace</td>\n",
       "      <td>Star Wars: Episode II  Attack of the Clones</td>\n",
       "      <td>Star Wars: Episode III  Revenge of the Sith</td>\n",
       "      <td>Star Wars: Episode IV  A New Hope</td>\n",
       "      <td>Star Wars: Episode V The Empire Strikes Back</td>\n",
       "      <td>Star Wars: Episode VI Return of the Jedi</td>\n",
       "      <td>Star Wars: Episode I  The Phantom Menace</td>\n",
       "      <td>Star Wars: Episode II  Attack of the Clones</td>\n",
       "      <td>Star Wars: Episode III  Revenge of the Sith</td>\n",
       "      <td>Star Wars: Episode IV  A New Hope</td>\n",
       "      <td>Star Wars: Episode V The Empire Strikes Back</td>\n",
       "      <td>Star Wars: Episode VI Return of the Jedi</td>\n",
       "      <td>Han Solo</td>\n",
       "      <td>Luke Skywalker</td>\n",
       "      <td>Princess Leia Organa</td>\n",
       "      <td>Anakin Skywalker</td>\n",
       "      <td>Obi Wan Kenobi</td>\n",
       "      <td>Emperor Palpatine</td>\n",
       "      <td>Darth Vader</td>\n",
       "      <td>Lando Calrissian</td>\n",
       "      <td>Boba Fett</td>\n",
       "      <td>C-3P0</td>\n",
       "      <td>R2 D2</td>\n",
       "      <td>Jar Jar Binks</td>\n",
       "      <td>Padme Amidala</td>\n",
       "      <td>Yoda</td>\n",
       "      <td>Response</td>\n",
       "      <td>Response</td>\n",
       "      <td>Response</td>\n",
       "      <td>Response</td>\n",
       "      <td>Response</td>\n",
       "      <td>Response</td>\n",
       "      <td>Response</td>\n",
       "      <td>Response</td>\n",
       "      <td>Response</td>\n",
       "    </tr>\n",
       "    <tr>\n",
       "      <th>1</th>\n",
       "      <td>3.292880e+09</td>\n",
       "      <td>Yes</td>\n",
       "      <td>Yes</td>\n",
       "      <td>Star Wars: Episode I  The Phantom Menace</td>\n",
       "      <td>Star Wars: Episode II  Attack of the Clones</td>\n",
       "      <td>Star Wars: Episode III  Revenge of the Sith</td>\n",
       "      <td>Star Wars: Episode IV  A New Hope</td>\n",
       "      <td>Star Wars: Episode V The Empire Strikes Back</td>\n",
       "      <td>Star Wars: Episode VI Return of the Jedi</td>\n",
       "      <td>3</td>\n",
       "      <td>2</td>\n",
       "      <td>1</td>\n",
       "      <td>4</td>\n",
       "      <td>5</td>\n",
       "      <td>6</td>\n",
       "      <td>Very favorably</td>\n",
       "      <td>Very favorably</td>\n",
       "      <td>Very favorably</td>\n",
       "      <td>Very favorably</td>\n",
       "      <td>Very favorably</td>\n",
       "      <td>Very favorably</td>\n",
       "      <td>Very favorably</td>\n",
       "      <td>Unfamiliar (N/A)</td>\n",
       "      <td>Unfamiliar (N/A)</td>\n",
       "      <td>Very favorably</td>\n",
       "      <td>Very favorably</td>\n",
       "      <td>Very favorably</td>\n",
       "      <td>Very favorably</td>\n",
       "      <td>Very favorably</td>\n",
       "      <td>I don't understand this question</td>\n",
       "      <td>Yes</td>\n",
       "      <td>No</td>\n",
       "      <td>No</td>\n",
       "      <td>Male</td>\n",
       "      <td>18-29</td>\n",
       "      <td>NaN</td>\n",
       "      <td>High school degree</td>\n",
       "      <td>South Atlantic</td>\n",
       "    </tr>\n",
       "  </tbody>\n",
       "</table>\n",
       "</div>"
      ],
      "text/plain": [
       "   RespondentID Have you seen any of the 6 films in the Star Wars franchise?  \\\n",
       "0           NaN                                           Response             \n",
       "1  3.292880e+09                                                Yes             \n",
       "\n",
       "  Do you consider yourself to be a fan of the Star Wars film franchise?  \\\n",
       "0                                           Response                      \n",
       "1                                                Yes                      \n",
       "\n",
       "  Which of the following Star Wars films have you seen? Please select all that apply.  \\\n",
       "0           Star Wars: Episode I  The Phantom Menace                                    \n",
       "1           Star Wars: Episode I  The Phantom Menace                                    \n",
       "\n",
       "                                    Unnamed: 4  \\\n",
       "0  Star Wars: Episode II  Attack of the Clones   \n",
       "1  Star Wars: Episode II  Attack of the Clones   \n",
       "\n",
       "                                    Unnamed: 5  \\\n",
       "0  Star Wars: Episode III  Revenge of the Sith   \n",
       "1  Star Wars: Episode III  Revenge of the Sith   \n",
       "\n",
       "                          Unnamed: 6  \\\n",
       "0  Star Wars: Episode IV  A New Hope   \n",
       "1  Star Wars: Episode IV  A New Hope   \n",
       "\n",
       "                                     Unnamed: 7  \\\n",
       "0  Star Wars: Episode V The Empire Strikes Back   \n",
       "1  Star Wars: Episode V The Empire Strikes Back   \n",
       "\n",
       "                                 Unnamed: 8  \\\n",
       "0  Star Wars: Episode VI Return of the Jedi   \n",
       "1  Star Wars: Episode VI Return of the Jedi   \n",
       "\n",
       "  Please rank the Star Wars films in order of preference with 1 being your favorite film in the franchise and 6 being your least favorite film.  \\\n",
       "0           Star Wars: Episode I  The Phantom Menace                                                                                              \n",
       "1                                                  3                                                                                              \n",
       "\n",
       "                                   Unnamed: 10  \\\n",
       "0  Star Wars: Episode II  Attack of the Clones   \n",
       "1                                            2   \n",
       "\n",
       "                                   Unnamed: 11  \\\n",
       "0  Star Wars: Episode III  Revenge of the Sith   \n",
       "1                                            1   \n",
       "\n",
       "                         Unnamed: 12  \\\n",
       "0  Star Wars: Episode IV  A New Hope   \n",
       "1                                  4   \n",
       "\n",
       "                                    Unnamed: 13  \\\n",
       "0  Star Wars: Episode V The Empire Strikes Back   \n",
       "1                                             5   \n",
       "\n",
       "                                Unnamed: 14  \\\n",
       "0  Star Wars: Episode VI Return of the Jedi   \n",
       "1                                         6   \n",
       "\n",
       "  Please state whether you view the following characters favorably, unfavorably, or are unfamiliar with him/her.  \\\n",
       "0                                           Han Solo                                                               \n",
       "1                                     Very favorably                                                               \n",
       "\n",
       "      Unnamed: 16           Unnamed: 17       Unnamed: 18     Unnamed: 19  \\\n",
       "0  Luke Skywalker  Princess Leia Organa  Anakin Skywalker  Obi Wan Kenobi   \n",
       "1  Very favorably        Very favorably    Very favorably  Very favorably   \n",
       "\n",
       "         Unnamed: 20     Unnamed: 21       Unnamed: 22       Unnamed: 23  \\\n",
       "0  Emperor Palpatine     Darth Vader  Lando Calrissian         Boba Fett   \n",
       "1     Very favorably  Very favorably  Unfamiliar (N/A)  Unfamiliar (N/A)   \n",
       "\n",
       "      Unnamed: 24     Unnamed: 25     Unnamed: 26     Unnamed: 27  \\\n",
       "0           C-3P0           R2 D2   Jar Jar Binks   Padme Amidala   \n",
       "1  Very favorably  Very favorably  Very favorably  Very favorably   \n",
       "\n",
       "      Unnamed: 28       Which character shot first?  \\\n",
       "0            Yoda                          Response   \n",
       "1  Very favorably  I don't understand this question   \n",
       "\n",
       "  Are you familiar with the Expanded Universe?  \\\n",
       "0                                     Response   \n",
       "1                                          Yes   \n",
       "\n",
       "  Do you consider yourself to be a fan of the Expanded Universe?æ  \\\n",
       "0                                           Response                 \n",
       "1                                                 No                 \n",
       "\n",
       "  Do you consider yourself to be a fan of the Star Trek franchise?    Gender  \\\n",
       "0                                           Response                Response   \n",
       "1                                                 No                    Male   \n",
       "\n",
       "        Age Household Income           Education Location (Census Region)  \n",
       "0  Response         Response            Response                 Response  \n",
       "1     18-29              NaN  High school degree           South Atlantic  "
      ]
     },
     "execution_count": 4,
     "metadata": {},
     "output_type": "execute_result"
    }
   ],
   "source": [
    "star_wars.head(2)"
   ]
  },
  {
   "cell_type": "markdown",
   "metadata": {},
   "source": [
    "---\n",
    "### Cleaning Column Names"
   ]
  },
  {
   "cell_type": "code",
   "execution_count": 5,
   "metadata": {},
   "outputs": [
    {
     "data": {
      "text/plain": [
       "Index(['RespondentID',\n",
       "       'Have you seen any of the 6 films in the Star Wars franchise?',\n",
       "       'Do you consider yourself to be a fan of the Star Wars film franchise?',\n",
       "       'Which of the following Star Wars films have you seen? Please select all that apply.',\n",
       "       'Unnamed: 4', 'Unnamed: 5', 'Unnamed: 6', 'Unnamed: 7', 'Unnamed: 8',\n",
       "       'Please rank the Star Wars films in order of preference with 1 being your favorite film in the franchise and 6 being your least favorite film.',\n",
       "       'Unnamed: 10', 'Unnamed: 11', 'Unnamed: 12', 'Unnamed: 13',\n",
       "       'Unnamed: 14',\n",
       "       'Please state whether you view the following characters favorably, unfavorably, or are unfamiliar with him/her.',\n",
       "       'Unnamed: 16', 'Unnamed: 17', 'Unnamed: 18', 'Unnamed: 19',\n",
       "       'Unnamed: 20', 'Unnamed: 21', 'Unnamed: 22', 'Unnamed: 23',\n",
       "       'Unnamed: 24', 'Unnamed: 25', 'Unnamed: 26', 'Unnamed: 27',\n",
       "       'Unnamed: 28', 'Which character shot first?',\n",
       "       'Are you familiar with the Expanded Universe?',\n",
       "       'Do you consider yourself to be a fan of the Expanded Universe?æ',\n",
       "       'Do you consider yourself to be a fan of the Star Trek franchise?',\n",
       "       'Gender', 'Age', 'Household Income', 'Education',\n",
       "       'Location (Census Region)'],\n",
       "      dtype='object')"
      ]
     },
     "execution_count": 5,
     "metadata": {},
     "output_type": "execute_result"
    }
   ],
   "source": [
    "star_wars.columns"
   ]
  },
  {
   "cell_type": "markdown",
   "metadata": {},
   "source": [
    "The column names are too long to be displayed. We will reduce some of the names. In addition, the data in the first row of the dataset are also part of the issues listed in the columns, we will adapt them to the columns."
   ]
  },
  {
   "cell_type": "code",
   "execution_count": 6,
   "metadata": {},
   "outputs": [],
   "source": [
    "star_wars.rename(columns={\n",
    "    'Have you seen any of the 6 films in the Star Wars franchise?':'Have you seen any of the 6 episodes?',\n",
    "    'Do you consider yourself to be a fan of the Star Wars film franchise?': 'Star Wars fan',\n",
    "    'Which of the following Star Wars films have you seen? Please select all that apply.':'Have you seen the following Episodes? Episode 1',\n",
    "    'Unnamed: 4':'Episode 2',\n",
    "    'Unnamed: 5':'Episode 3',\n",
    "    'Unnamed: 6':'Episode 4',\n",
    "    'Unnamed: 7':'Episode 5',\n",
    "    'Unnamed: 8':'Episode 6',\n",
    "    'Please rank the Star Wars films in order of preference with 1 being your favorite film in the franchise and 6 being your least favorite film.':\n",
    "    'Rank the episodes from 1 (best) to 6 (worst). 1',\n",
    "    'Unnamed: 10':'2',\n",
    "    'Unnamed: 11':'3',\n",
    "    'Unnamed: 12':'4',\n",
    "    'Unnamed: 13':'5',\n",
    "    'Unnamed: 14':'6',\n",
    "    'Please state whether you view the following characters favorably, unfavorably, or are unfamiliar with him/her.':\n",
    "    'Your view about the following characters: Han Solo',\n",
    "    'Unnamed: 16': 'Luke Skywalker',\n",
    "    'Unnamed: 17': 'Princess Leia Organa',\n",
    "    'Unnamed: 18': 'Anakin Skywalker',\n",
    "    'Unnamed: 19': 'Obi Wan Kenobi',\n",
    "    'Unnamed: 20': 'Emperor Palpatine',\n",
    "    'Unnamed: 21': 'Darth Vader',\n",
    "    'Unnamed: 22': 'Lando Calrissian',\n",
    "    'Unnamed: 23': 'Boba Fett',\n",
    "    'Unnamed: 24': 'C-3P0',\n",
    "    'Unnamed: 25': 'R2 D2',\n",
    "    'Unnamed: 26': 'Jar Jar Binks',\n",
    "    'Unnamed: 27': 'Padme Amidala',\n",
    "    'Unnamed: 28': 'Yoda',\n",
    "    star_wars.columns[-7]:'Expanded Universe fan',\n",
    "    'Do you consider yourself to be a fan of the Star Trek franchise?':'Star Trek fan'\n",
    "    }, inplace=True)"
   ]
  },
  {
   "cell_type": "code",
   "execution_count": 7,
   "metadata": {},
   "outputs": [
    {
     "data": {
      "text/html": [
       "<div>\n",
       "<style scoped>\n",
       "    .dataframe tbody tr th:only-of-type {\n",
       "        vertical-align: middle;\n",
       "    }\n",
       "\n",
       "    .dataframe tbody tr th {\n",
       "        vertical-align: top;\n",
       "    }\n",
       "\n",
       "    .dataframe thead th {\n",
       "        text-align: right;\n",
       "    }\n",
       "</style>\n",
       "<table border=\"1\" class=\"dataframe\">\n",
       "  <thead>\n",
       "    <tr style=\"text-align: right;\">\n",
       "      <th></th>\n",
       "      <th>RespondentID</th>\n",
       "      <th>Have you seen any of the 6 episodes?</th>\n",
       "      <th>Star Wars fan</th>\n",
       "      <th>Have you seen the following Episodes? Episode 1</th>\n",
       "      <th>Episode 2</th>\n",
       "      <th>Episode 3</th>\n",
       "      <th>Episode 4</th>\n",
       "      <th>Episode 5</th>\n",
       "      <th>Episode 6</th>\n",
       "      <th>Rank the episodes from 1 (best) to 6 (worst). 1</th>\n",
       "      <th>2</th>\n",
       "      <th>3</th>\n",
       "      <th>4</th>\n",
       "      <th>5</th>\n",
       "      <th>6</th>\n",
       "      <th>Your view about the following characters: Han Solo</th>\n",
       "      <th>Luke Skywalker</th>\n",
       "      <th>Princess Leia Organa</th>\n",
       "      <th>Anakin Skywalker</th>\n",
       "      <th>Obi Wan Kenobi</th>\n",
       "      <th>Emperor Palpatine</th>\n",
       "      <th>Darth Vader</th>\n",
       "      <th>Lando Calrissian</th>\n",
       "      <th>Boba Fett</th>\n",
       "      <th>C-3P0</th>\n",
       "      <th>R2 D2</th>\n",
       "      <th>Jar Jar Binks</th>\n",
       "      <th>Padme Amidala</th>\n",
       "      <th>Yoda</th>\n",
       "      <th>Which character shot first?</th>\n",
       "      <th>Are you familiar with the Expanded Universe?</th>\n",
       "      <th>Expanded Universe fan</th>\n",
       "      <th>Star Trek fan</th>\n",
       "      <th>Gender</th>\n",
       "      <th>Age</th>\n",
       "      <th>Household Income</th>\n",
       "      <th>Education</th>\n",
       "      <th>Location (Census Region)</th>\n",
       "    </tr>\n",
       "  </thead>\n",
       "  <tbody>\n",
       "    <tr>\n",
       "      <th>1</th>\n",
       "      <td>3.292880e+09</td>\n",
       "      <td>Yes</td>\n",
       "      <td>Yes</td>\n",
       "      <td>Star Wars: Episode I  The Phantom Menace</td>\n",
       "      <td>Star Wars: Episode II  Attack of the Clones</td>\n",
       "      <td>Star Wars: Episode III  Revenge of the Sith</td>\n",
       "      <td>Star Wars: Episode IV  A New Hope</td>\n",
       "      <td>Star Wars: Episode V The Empire Strikes Back</td>\n",
       "      <td>Star Wars: Episode VI Return of the Jedi</td>\n",
       "      <td>3</td>\n",
       "      <td>2</td>\n",
       "      <td>1</td>\n",
       "      <td>4</td>\n",
       "      <td>5</td>\n",
       "      <td>6</td>\n",
       "      <td>Very favorably</td>\n",
       "      <td>Very favorably</td>\n",
       "      <td>Very favorably</td>\n",
       "      <td>Very favorably</td>\n",
       "      <td>Very favorably</td>\n",
       "      <td>Very favorably</td>\n",
       "      <td>Very favorably</td>\n",
       "      <td>Unfamiliar (N/A)</td>\n",
       "      <td>Unfamiliar (N/A)</td>\n",
       "      <td>Very favorably</td>\n",
       "      <td>Very favorably</td>\n",
       "      <td>Very favorably</td>\n",
       "      <td>Very favorably</td>\n",
       "      <td>Very favorably</td>\n",
       "      <td>I don't understand this question</td>\n",
       "      <td>Yes</td>\n",
       "      <td>No</td>\n",
       "      <td>No</td>\n",
       "      <td>Male</td>\n",
       "      <td>18-29</td>\n",
       "      <td>NaN</td>\n",
       "      <td>High school degree</td>\n",
       "      <td>South Atlantic</td>\n",
       "    </tr>\n",
       "    <tr>\n",
       "      <th>2</th>\n",
       "      <td>3.292880e+09</td>\n",
       "      <td>No</td>\n",
       "      <td>NaN</td>\n",
       "      <td>NaN</td>\n",
       "      <td>NaN</td>\n",
       "      <td>NaN</td>\n",
       "      <td>NaN</td>\n",
       "      <td>NaN</td>\n",
       "      <td>NaN</td>\n",
       "      <td>NaN</td>\n",
       "      <td>NaN</td>\n",
       "      <td>NaN</td>\n",
       "      <td>NaN</td>\n",
       "      <td>NaN</td>\n",
       "      <td>NaN</td>\n",
       "      <td>NaN</td>\n",
       "      <td>NaN</td>\n",
       "      <td>NaN</td>\n",
       "      <td>NaN</td>\n",
       "      <td>NaN</td>\n",
       "      <td>NaN</td>\n",
       "      <td>NaN</td>\n",
       "      <td>NaN</td>\n",
       "      <td>NaN</td>\n",
       "      <td>NaN</td>\n",
       "      <td>NaN</td>\n",
       "      <td>NaN</td>\n",
       "      <td>NaN</td>\n",
       "      <td>NaN</td>\n",
       "      <td>NaN</td>\n",
       "      <td>NaN</td>\n",
       "      <td>NaN</td>\n",
       "      <td>Yes</td>\n",
       "      <td>Male</td>\n",
       "      <td>18-29</td>\n",
       "      <td>$0 - $24,999</td>\n",
       "      <td>Bachelor degree</td>\n",
       "      <td>West South Central</td>\n",
       "    </tr>\n",
       "  </tbody>\n",
       "</table>\n",
       "</div>"
      ],
      "text/plain": [
       "   RespondentID Have you seen any of the 6 episodes? Star Wars fan  \\\n",
       "1  3.292880e+09                                  Yes           Yes   \n",
       "2  3.292880e+09                                   No           NaN   \n",
       "\n",
       "  Have you seen the following Episodes? Episode 1  \\\n",
       "1        Star Wars: Episode I  The Phantom Menace   \n",
       "2                                             NaN   \n",
       "\n",
       "                                     Episode 2  \\\n",
       "1  Star Wars: Episode II  Attack of the Clones   \n",
       "2                                          NaN   \n",
       "\n",
       "                                     Episode 3  \\\n",
       "1  Star Wars: Episode III  Revenge of the Sith   \n",
       "2                                          NaN   \n",
       "\n",
       "                           Episode 4  \\\n",
       "1  Star Wars: Episode IV  A New Hope   \n",
       "2                                NaN   \n",
       "\n",
       "                                      Episode 5  \\\n",
       "1  Star Wars: Episode V The Empire Strikes Back   \n",
       "2                                           NaN   \n",
       "\n",
       "                                  Episode 6  \\\n",
       "1  Star Wars: Episode VI Return of the Jedi   \n",
       "2                                       NaN   \n",
       "\n",
       "  Rank the episodes from 1 (best) to 6 (worst). 1    2    3    4    5    6  \\\n",
       "1                                               3    2    1    4    5    6   \n",
       "2                                             NaN  NaN  NaN  NaN  NaN  NaN   \n",
       "\n",
       "  Your view about the following characters: Han Solo  Luke Skywalker  \\\n",
       "1                                     Very favorably  Very favorably   \n",
       "2                                                NaN             NaN   \n",
       "\n",
       "  Princess Leia Organa Anakin Skywalker  Obi Wan Kenobi Emperor Palpatine  \\\n",
       "1       Very favorably   Very favorably  Very favorably    Very favorably   \n",
       "2                  NaN              NaN             NaN               NaN   \n",
       "\n",
       "      Darth Vader  Lando Calrissian         Boba Fett           C-3P0  \\\n",
       "1  Very favorably  Unfamiliar (N/A)  Unfamiliar (N/A)  Very favorably   \n",
       "2             NaN               NaN               NaN             NaN   \n",
       "\n",
       "            R2 D2   Jar Jar Binks   Padme Amidala            Yoda  \\\n",
       "1  Very favorably  Very favorably  Very favorably  Very favorably   \n",
       "2             NaN             NaN             NaN             NaN   \n",
       "\n",
       "        Which character shot first?  \\\n",
       "1  I don't understand this question   \n",
       "2                               NaN   \n",
       "\n",
       "  Are you familiar with the Expanded Universe? Expanded Universe fan  \\\n",
       "1                                          Yes                    No   \n",
       "2                                          NaN                   NaN   \n",
       "\n",
       "  Star Trek fan Gender    Age Household Income           Education  \\\n",
       "1            No   Male  18-29              NaN  High school degree   \n",
       "2           Yes   Male  18-29     $0 - $24,999     Bachelor degree   \n",
       "\n",
       "  Location (Census Region)  \n",
       "1           South Atlantic  \n",
       "2       West South Central  "
      ]
     },
     "execution_count": 7,
     "metadata": {},
     "output_type": "execute_result"
    }
   ],
   "source": [
    "star_wars.drop([0], inplace=True)\n",
    "star_wars.head(2)"
   ]
  },
  {
   "cell_type": "markdown",
   "metadata": {},
   "source": [
    "---\n",
    "## Dropping useless columns and null values"
   ]
  },
  {
   "cell_type": "code",
   "execution_count": 8,
   "metadata": {},
   "outputs": [
    {
     "data": {
      "text/plain": [
       "RespondentID                                          0.000000\n",
       "Have you seen any of the 6 episodes?                  0.000000\n",
       "Star Trek fan                                         0.099494\n",
       "Age                                                   0.118044\n",
       "Gender                                                0.118044\n",
       "Location (Census Region)                              0.120573\n",
       "Education                                             0.126476\n",
       "Household Income                                      0.276560\n",
       "Star Wars fan                                         0.295110\n",
       "2                                                     0.295110\n",
       "4                                                     0.295110\n",
       "5                                                     0.295110\n",
       "6                                                     0.295110\n",
       "Rank the episodes from 1 (best) to 6 (worst). 1       0.295953\n",
       "3                                                     0.295953\n",
       "Luke Skywalker                                        0.299325\n",
       "Princess Leia Organa                                  0.299325\n",
       "R2 D2                                                 0.300169\n",
       "Your view about the following characters: Han Solo    0.301012\n",
       "Which character shot first?                           0.301855\n",
       "Are you familiar with the Expanded Universe?          0.301855\n",
       "C-3P0                                                 0.302698\n",
       "Yoda                                                  0.303541\n",
       "Darth Vader                                           0.303541\n",
       "Obi Wan Kenobi                                        0.304384\n",
       "Anakin Skywalker                                      0.306071\n",
       "Jar Jar Binks                                         0.307757\n",
       "Lando Calrissian                                      0.308600\n",
       "Padme Amidala                                         0.313659\n",
       "Emperor Palpatine                                     0.313659\n",
       "Boba Fett                                             0.315346\n",
       "Episode 5                                             0.360877\n",
       "Episode 6                                             0.377740\n",
       "Have you seen the following Episodes? Episode 1       0.432546\n",
       "Episode 4                                             0.488196\n",
       "Episode 2                                             0.518550\n",
       "Episode 3                                             0.536256\n",
       "Expanded Universe fan                                 0.820405\n",
       "dtype: float64"
      ]
     },
     "execution_count": 8,
     "metadata": {},
     "output_type": "execute_result"
    }
   ],
   "source": [
    "# percentage of null values in each column\n",
    "star_wars.isnull().sum().sort_values() / star_wars.shape[0]"
   ]
  },
  {
   "cell_type": "raw",
   "metadata": {},
   "source": [
    "The column \"Are you familiar with the Expanded Universe?\", \"Fan of the expanded universe\", \"Which character shot first?\", \"Household Income\", \"Age\", \"Education\", \"have you seen the following Episodes? Episode 1\", \"Episode 2\", \"Episode 3\", \"Episode 4\", \"Episode 5\" and \"Episode 6\" are not important for our analysis so we will drop them."
   ]
  },
  {
   "cell_type": "code",
   "execution_count": 9,
   "metadata": {},
   "outputs": [],
   "source": [
    "star_wars.drop(columns=['Have you seen any of the 6 episodes?',\n",
    "                'Are you familiar with the Expanded Universe?', \n",
    "                'Expanded Universe fan', \n",
    "                'Which character shot first?',\n",
    "                'Household Income',\n",
    "                'Age',\n",
    "                'Education',\n",
    "                'Have you seen the following Episodes? Episode 1',\n",
    "                'Episode 2', \n",
    "                'Episode 3', \n",
    "                'Episode 4', \n",
    "                'Episode 5', \n",
    "                'Episode 6'\n",
    "               ], inplace=True)"
   ]
  },
  {
   "cell_type": "code",
   "execution_count": 10,
   "metadata": {},
   "outputs": [
    {
     "data": {
      "text/plain": [
       "RespondentID                                          0.000000\n",
       "Star Trek fan                                         0.099494\n",
       "Gender                                                0.118044\n",
       "Location (Census Region)                              0.120573\n",
       "4                                                     0.295110\n",
       "5                                                     0.295110\n",
       "6                                                     0.295110\n",
       "Star Wars fan                                         0.295110\n",
       "2                                                     0.295110\n",
       "3                                                     0.295953\n",
       "Rank the episodes from 1 (best) to 6 (worst). 1       0.295953\n",
       "Luke Skywalker                                        0.299325\n",
       "Princess Leia Organa                                  0.299325\n",
       "R2 D2                                                 0.300169\n",
       "Your view about the following characters: Han Solo    0.301012\n",
       "C-3P0                                                 0.302698\n",
       "Yoda                                                  0.303541\n",
       "Darth Vader                                           0.303541\n",
       "Obi Wan Kenobi                                        0.304384\n",
       "Anakin Skywalker                                      0.306071\n",
       "Jar Jar Binks                                         0.307757\n",
       "Lando Calrissian                                      0.308600\n",
       "Padme Amidala                                         0.313659\n",
       "Emperor Palpatine                                     0.313659\n",
       "Boba Fett                                             0.315346\n",
       "dtype: float64"
      ]
     },
     "execution_count": 10,
     "metadata": {},
     "output_type": "execute_result"
    }
   ],
   "source": [
    "star_wars.isnull().sum().sort_values() / star_wars.shape[0]"
   ]
  },
  {
   "cell_type": "markdown",
   "metadata": {},
   "source": [
    "There is a big number of null values in our data. Drop all the null values will result in a huge data loss. We will check the null values in each column. "
   ]
  },
  {
   "cell_type": "markdown",
   "metadata": {},
   "source": [
    "---\n",
    "## Cleaning \"RespondentID\" column"
   ]
  },
  {
   "cell_type": "code",
   "execution_count": 11,
   "metadata": {},
   "outputs": [
    {
     "data": {
      "text/plain": [
       "3.291092e+09    1\n",
       "3.290177e+09    1\n",
       "3.288665e+09    1\n",
       "3.289263e+09    1\n",
       "3.290761e+09    1\n",
       "               ..\n",
       "3.288375e+09    1\n",
       "3.288403e+09    1\n",
       "3.289274e+09    1\n",
       "3.288457e+09    1\n",
       "3.290768e+09    1\n",
       "Name: RespondentID, Length: 1186, dtype: int64"
      ]
     },
     "execution_count": 11,
     "metadata": {},
     "output_type": "execute_result"
    }
   ],
   "source": [
    "star_wars['RespondentID'].value_counts().sort_values()"
   ]
  },
  {
   "cell_type": "markdown",
   "metadata": {},
   "source": [
    "The values in RespondentID column are unique."
   ]
  },
  {
   "cell_type": "markdown",
   "metadata": {},
   "source": [
    "---\n",
    "## Cleaning the columns:\n",
    "- \"Star Wars fan\",\n",
    "- \"Star Trek fan\"\n",
    "\n",
    "All these columns should have values True/False"
   ]
  },
  {
   "cell_type": "code",
   "execution_count": 12,
   "metadata": {},
   "outputs": [
    {
     "name": "stdout",
     "output_type": "stream",
     "text": [
      "-------------------------------------------------------------------------------- \n",
      "Yes    552\n",
      "NaN    350\n",
      "No     284\n",
      "Name: Star Wars fan, dtype: int64 \n",
      "\n",
      "-------------------------------------------------------------------------------- \n",
      "No     641\n",
      "Yes    427\n",
      "NaN    118\n",
      "Name: Star Trek fan, dtype: int64 \n",
      "\n"
     ]
    }
   ],
   "source": [
    "for col in ['Star Wars fan', 'Star Trek fan']:\n",
    "    print(80*'-',f'\\n{star_wars[col].value_counts(dropna=False)}','\\n')"
   ]
  },
  {
   "cell_type": "markdown",
   "metadata": {},
   "source": [
    "We will replace yes/no for True/False. Also in some columns instead of \"yes\", the answers contains the episode's name. We will replace the episode name by True."
   ]
  },
  {
   "cell_type": "code",
   "execution_count": 13,
   "metadata": {},
   "outputs": [],
   "source": [
    "for col in ['Star Wars fan', 'Star Trek fan']:\n",
    "    star_wars[col].replace({'Yes':True, 'No':False}, inplace=True)"
   ]
  },
  {
   "cell_type": "markdown",
   "metadata": {},
   "source": [
    "---\n",
    "## Cleaning the columns: \n",
    "- \"Rank the episodes from 1 (best) to 6 (worst). 1\"\n",
    "- \"2\"\n",
    "- \"3\"\n",
    "- \"4\"\n",
    "- \"5\"\n",
    "- \"6\""
   ]
  },
  {
   "cell_type": "code",
   "execution_count": 14,
   "metadata": {},
   "outputs": [],
   "source": [
    "cols = ['Rank the episodes from 1 (best) to 6 (worst). 1', '2', '3', '4', '5', '6']"
   ]
  },
  {
   "cell_type": "code",
   "execution_count": 15,
   "metadata": {},
   "outputs": [
    {
     "name": "stdout",
     "output_type": "stream",
     "text": [
      "-------------------------------------------------------------------------------- \n",
      "NaN    351\n",
      "4      237\n",
      "6      168\n",
      "3      130\n",
      "1      129\n",
      "5      100\n",
      "2       71\n",
      "Name: Rank the episodes from 1 (best) to 6 (worst). 1, dtype: int64 \n",
      "\n",
      "-------------------------------------------------------------------------------- \n",
      "NaN    350\n",
      "5      300\n",
      "4      183\n",
      "2      116\n",
      "3      103\n",
      "6      102\n",
      "1       32\n",
      "Name: 2, dtype: int64 \n",
      "\n",
      "-------------------------------------------------------------------------------- \n",
      "NaN    351\n",
      "6      217\n",
      "5      203\n",
      "4      182\n",
      "3      150\n",
      "2       47\n",
      "1       36\n",
      "Name: 3, dtype: int64 \n",
      "\n",
      "-------------------------------------------------------------------------------- \n",
      "NaN    350\n",
      "1      204\n",
      "6      161\n",
      "2      135\n",
      "4      130\n",
      "3      127\n",
      "5       79\n",
      "Name: 4, dtype: int64 \n",
      "\n",
      "-------------------------------------------------------------------------------- \n",
      "NaN    350\n",
      "1      289\n",
      "2      235\n",
      "5      118\n",
      "3      106\n",
      "4       47\n",
      "6       41\n",
      "Name: 5, dtype: int64 \n",
      "\n",
      "-------------------------------------------------------------------------------- \n",
      "NaN    350\n",
      "2      232\n",
      "3      220\n",
      "1      146\n",
      "6      145\n",
      "4       57\n",
      "5       36\n",
      "Name: 6, dtype: int64 \n",
      "\n"
     ]
    }
   ],
   "source": [
    "for col in cols:\n",
    "    print(80*'-',f'\\n{star_wars[col].value_counts(dropna=False)}','\\n')"
   ]
  },
  {
   "cell_type": "markdown",
   "metadata": {},
   "source": [
    "The columns look ok."
   ]
  },
  {
   "cell_type": "markdown",
   "metadata": {},
   "source": [
    "We can that \"Episode IV: A New Hope\" is the most voted favorite by users."
   ]
  },
  {
   "cell_type": "markdown",
   "metadata": {},
   "source": [
    "## Cleaning character columns"
   ]
  },
  {
   "cell_type": "code",
   "execution_count": 16,
   "metadata": {},
   "outputs": [
    {
     "data": {
      "text/plain": [
       "Index(['RespondentID', 'Star Wars fan',\n",
       "       'Rank the episodes from 1 (best) to 6 (worst). 1', '2', '3', '4', '5',\n",
       "       '6', 'Your view about the following characters: Han Solo',\n",
       "       'Luke Skywalker', 'Princess Leia Organa', 'Anakin Skywalker',\n",
       "       'Obi Wan Kenobi', 'Emperor Palpatine', 'Darth Vader',\n",
       "       'Lando Calrissian', 'Boba Fett', 'C-3P0', 'R2 D2', 'Jar Jar Binks',\n",
       "       'Padme Amidala', 'Yoda', 'Star Trek fan', 'Gender',\n",
       "       'Location (Census Region)'],\n",
       "      dtype='object')"
      ]
     },
     "execution_count": 16,
     "metadata": {},
     "output_type": "execute_result"
    }
   ],
   "source": [
    "star_wars.columns"
   ]
  },
  {
   "cell_type": "code",
   "execution_count": 17,
   "metadata": {},
   "outputs": [],
   "source": [
    "cols = ['Your view about the following characters: Han Solo',\n",
    "       'Luke Skywalker', 'Princess Leia Organa', 'Anakin Skywalker',\n",
    "       'Obi Wan Kenobi', 'Emperor Palpatine', 'Darth Vader',\n",
    "       'Lando Calrissian', 'Boba Fett', 'C-3P0', 'R2 D2', 'Jar Jar Binks',\n",
    "       'Padme Amidala', 'Yoda']"
   ]
  },
  {
   "cell_type": "code",
   "execution_count": 18,
   "metadata": {},
   "outputs": [
    {
     "name": "stdout",
     "output_type": "stream",
     "text": [
      "-------------------------------------------------------------------------------- \n",
      "Very favorably                                 610\n",
      "NaN                                            357\n",
      "Somewhat favorably                             151\n",
      "Neither favorably nor unfavorably (neutral)     44\n",
      "Unfamiliar (N/A)                                15\n",
      "Somewhat unfavorably                             8\n",
      "Very unfavorably                                 1\n",
      "Name: Your view about the following characters: Han Solo, dtype: int64 \n",
      "\n",
      "-------------------------------------------------------------------------------- \n",
      "Very favorably                                 552\n",
      "NaN                                            355\n",
      "Somewhat favorably                             219\n",
      "Neither favorably nor unfavorably (neutral)     38\n",
      "Somewhat unfavorably                            13\n",
      "Unfamiliar (N/A)                                 6\n",
      "Very unfavorably                                 3\n",
      "Name: Luke Skywalker, dtype: int64 \n",
      "\n",
      "-------------------------------------------------------------------------------- \n",
      "Very favorably                                 547\n",
      "NaN                                            355\n",
      "Somewhat favorably                             210\n",
      "Neither favorably nor unfavorably (neutral)     48\n",
      "Somewhat unfavorably                            12\n",
      "Unfamiliar (N/A)                                 8\n",
      "Very unfavorably                                 6\n",
      "Name: Princess Leia Organa, dtype: int64 \n",
      "\n",
      "-------------------------------------------------------------------------------- \n",
      "NaN                                            363\n",
      "Somewhat favorably                             269\n",
      "Very favorably                                 245\n",
      "Neither favorably nor unfavorably (neutral)    135\n",
      "Somewhat unfavorably                            83\n",
      "Unfamiliar (N/A)                                52\n",
      "Very unfavorably                                39\n",
      "Name: Anakin Skywalker, dtype: int64 \n",
      "\n",
      "-------------------------------------------------------------------------------- \n",
      "Very favorably                                 591\n",
      "NaN                                            361\n",
      "Somewhat favorably                             159\n",
      "Neither favorably nor unfavorably (neutral)     43\n",
      "Unfamiliar (N/A)                                17\n",
      "Somewhat unfavorably                             8\n",
      "Very unfavorably                                 7\n",
      "Name: Obi Wan Kenobi, dtype: int64 \n",
      "\n",
      "-------------------------------------------------------------------------------- \n",
      "NaN                                            372\n",
      "Neither favorably nor unfavorably (neutral)    213\n",
      "Unfamiliar (N/A)                               156\n",
      "Somewhat favorably                             143\n",
      "Very unfavorably                               124\n",
      "Very favorably                                 110\n",
      "Somewhat unfavorably                            68\n",
      "Name: Emperor Palpatine, dtype: int64 \n",
      "\n",
      "-------------------------------------------------------------------------------- \n",
      "NaN                                            360\n",
      "Very favorably                                 310\n",
      "Somewhat favorably                             171\n",
      "Very unfavorably                               149\n",
      "Somewhat unfavorably                           102\n",
      "Neither favorably nor unfavorably (neutral)     84\n",
      "Unfamiliar (N/A)                                10\n",
      "Name: Darth Vader, dtype: int64 \n",
      "\n",
      "-------------------------------------------------------------------------------- \n",
      "NaN                                            366\n",
      "Neither favorably nor unfavorably (neutral)    236\n",
      "Somewhat favorably                             223\n",
      "Unfamiliar (N/A)                               148\n",
      "Very favorably                                 142\n",
      "Somewhat unfavorably                            63\n",
      "Very unfavorably                                 8\n",
      "Name: Lando Calrissian, dtype: int64 \n",
      "\n",
      "-------------------------------------------------------------------------------- \n",
      "NaN                                            374\n",
      "Neither favorably nor unfavorably (neutral)    248\n",
      "Somewhat favorably                             153\n",
      "Very favorably                                 138\n",
      "Unfamiliar (N/A)                               132\n",
      "Somewhat unfavorably                            96\n",
      "Very unfavorably                                45\n",
      "Name: Boba Fett, dtype: int64 \n",
      "\n",
      "-------------------------------------------------------------------------------- \n",
      "Very favorably                                 474\n",
      "NaN                                            359\n",
      "Somewhat favorably                             229\n",
      "Neither favorably nor unfavorably (neutral)     79\n",
      "Somewhat unfavorably                            23\n",
      "Unfamiliar (N/A)                                15\n",
      "Very unfavorably                                 7\n",
      "Name: C-3P0, dtype: int64 \n",
      "\n",
      "-------------------------------------------------------------------------------- \n",
      "Very favorably                                 562\n",
      "NaN                                            356\n",
      "Somewhat favorably                             185\n",
      "Neither favorably nor unfavorably (neutral)     57\n",
      "Unfamiliar (N/A)                                10\n",
      "Somewhat unfavorably                            10\n",
      "Very unfavorably                                 6\n",
      "Name: R2 D2, dtype: int64 \n",
      "\n",
      "-------------------------------------------------------------------------------- \n",
      "NaN                                            365\n",
      "Very unfavorably                               204\n",
      "Neither favorably nor unfavorably (neutral)    164\n",
      "Somewhat favorably                             130\n",
      "Very favorably                                 112\n",
      "Unfamiliar (N/A)                               109\n",
      "Somewhat unfavorably                           102\n",
      "Name: Jar Jar Binks, dtype: int64 \n",
      "\n",
      "-------------------------------------------------------------------------------- \n",
      "NaN                                            372\n",
      "Neither favorably nor unfavorably (neutral)    207\n",
      "Somewhat favorably                             183\n",
      "Very favorably                                 168\n",
      "Unfamiliar (N/A)                               164\n",
      "Somewhat unfavorably                            58\n",
      "Very unfavorably                                34\n",
      "Name: Padme Amidala, dtype: int64 \n",
      "\n",
      "-------------------------------------------------------------------------------- \n",
      "Very favorably                                 605\n",
      "NaN                                            360\n",
      "Somewhat favorably                             144\n",
      "Neither favorably nor unfavorably (neutral)     51\n",
      "Unfamiliar (N/A)                                10\n",
      "Very unfavorably                                 8\n",
      "Somewhat unfavorably                             8\n",
      "Name: Yoda, dtype: int64 \n",
      "\n"
     ]
    }
   ],
   "source": [
    "for col in cols:\n",
    "    print(80*'-',f'\\n{star_wars[col].value_counts(dropna=False)}','\\n')"
   ]
  },
  {
   "cell_type": "markdown",
   "metadata": {},
   "source": [
    "All the above columns looks ok. All have the same values."
   ]
  },
  {
   "cell_type": "markdown",
   "metadata": {},
   "source": [
    "## Cleaning \"Gender\", \"Location (Census Region)\" columns"
   ]
  },
  {
   "cell_type": "code",
   "execution_count": 19,
   "metadata": {},
   "outputs": [],
   "source": [
    "cols = ['Gender', 'Location (Census Region)']"
   ]
  },
  {
   "cell_type": "code",
   "execution_count": 20,
   "metadata": {},
   "outputs": [
    {
     "name": "stdout",
     "output_type": "stream",
     "text": [
      "-------------------------------------------------------------------------------- \n",
      "Female    549\n",
      "Male      497\n",
      "NaN       140\n",
      "Name: Gender, dtype: int64 \n",
      "\n",
      "-------------------------------------------------------------------------------- \n",
      "East North Central    181\n",
      "Pacific               175\n",
      "South Atlantic        170\n",
      "NaN                   143\n",
      "Middle Atlantic       122\n",
      "West South Central    110\n",
      "West North Central     93\n",
      "Mountain               79\n",
      "New England            75\n",
      "East South Central     38\n",
      "Name: Location (Census Region), dtype: int64 \n",
      "\n"
     ]
    }
   ],
   "source": [
    "for col in cols:\n",
    "    print(80*'-',f'\\n{star_wars[col].value_counts(dropna=False)}','\\n')"
   ]
  },
  {
   "cell_type": "markdown",
   "metadata": {},
   "source": [
    "The \"Gender\" column looks ok."
   ]
  },
  {
   "cell_type": "markdown",
   "metadata": {},
   "source": [
    "Print the first 5 rows ffter cleaning all columns our dataset:"
   ]
  },
  {
   "cell_type": "code",
   "execution_count": 21,
   "metadata": {},
   "outputs": [
    {
     "data": {
      "text/html": [
       "<div>\n",
       "<style scoped>\n",
       "    .dataframe tbody tr th:only-of-type {\n",
       "        vertical-align: middle;\n",
       "    }\n",
       "\n",
       "    .dataframe tbody tr th {\n",
       "        vertical-align: top;\n",
       "    }\n",
       "\n",
       "    .dataframe thead th {\n",
       "        text-align: right;\n",
       "    }\n",
       "</style>\n",
       "<table border=\"1\" class=\"dataframe\">\n",
       "  <thead>\n",
       "    <tr style=\"text-align: right;\">\n",
       "      <th></th>\n",
       "      <th>RespondentID</th>\n",
       "      <th>Star Wars fan</th>\n",
       "      <th>Rank the episodes from 1 (best) to 6 (worst). 1</th>\n",
       "      <th>2</th>\n",
       "      <th>3</th>\n",
       "      <th>4</th>\n",
       "      <th>5</th>\n",
       "      <th>6</th>\n",
       "      <th>Your view about the following characters: Han Solo</th>\n",
       "      <th>Luke Skywalker</th>\n",
       "      <th>Princess Leia Organa</th>\n",
       "      <th>Anakin Skywalker</th>\n",
       "      <th>Obi Wan Kenobi</th>\n",
       "      <th>Emperor Palpatine</th>\n",
       "      <th>Darth Vader</th>\n",
       "      <th>Lando Calrissian</th>\n",
       "      <th>Boba Fett</th>\n",
       "      <th>C-3P0</th>\n",
       "      <th>R2 D2</th>\n",
       "      <th>Jar Jar Binks</th>\n",
       "      <th>Padme Amidala</th>\n",
       "      <th>Yoda</th>\n",
       "      <th>Star Trek fan</th>\n",
       "      <th>Gender</th>\n",
       "      <th>Location (Census Region)</th>\n",
       "    </tr>\n",
       "  </thead>\n",
       "  <tbody>\n",
       "    <tr>\n",
       "      <th>1</th>\n",
       "      <td>3.292880e+09</td>\n",
       "      <td>True</td>\n",
       "      <td>3</td>\n",
       "      <td>2</td>\n",
       "      <td>1</td>\n",
       "      <td>4</td>\n",
       "      <td>5</td>\n",
       "      <td>6</td>\n",
       "      <td>Very favorably</td>\n",
       "      <td>Very favorably</td>\n",
       "      <td>Very favorably</td>\n",
       "      <td>Very favorably</td>\n",
       "      <td>Very favorably</td>\n",
       "      <td>Very favorably</td>\n",
       "      <td>Very favorably</td>\n",
       "      <td>Unfamiliar (N/A)</td>\n",
       "      <td>Unfamiliar (N/A)</td>\n",
       "      <td>Very favorably</td>\n",
       "      <td>Very favorably</td>\n",
       "      <td>Very favorably</td>\n",
       "      <td>Very favorably</td>\n",
       "      <td>Very favorably</td>\n",
       "      <td>False</td>\n",
       "      <td>Male</td>\n",
       "      <td>South Atlantic</td>\n",
       "    </tr>\n",
       "    <tr>\n",
       "      <th>2</th>\n",
       "      <td>3.292880e+09</td>\n",
       "      <td>NaN</td>\n",
       "      <td>NaN</td>\n",
       "      <td>NaN</td>\n",
       "      <td>NaN</td>\n",
       "      <td>NaN</td>\n",
       "      <td>NaN</td>\n",
       "      <td>NaN</td>\n",
       "      <td>NaN</td>\n",
       "      <td>NaN</td>\n",
       "      <td>NaN</td>\n",
       "      <td>NaN</td>\n",
       "      <td>NaN</td>\n",
       "      <td>NaN</td>\n",
       "      <td>NaN</td>\n",
       "      <td>NaN</td>\n",
       "      <td>NaN</td>\n",
       "      <td>NaN</td>\n",
       "      <td>NaN</td>\n",
       "      <td>NaN</td>\n",
       "      <td>NaN</td>\n",
       "      <td>NaN</td>\n",
       "      <td>True</td>\n",
       "      <td>Male</td>\n",
       "      <td>West South Central</td>\n",
       "    </tr>\n",
       "    <tr>\n",
       "      <th>3</th>\n",
       "      <td>3.292765e+09</td>\n",
       "      <td>False</td>\n",
       "      <td>1</td>\n",
       "      <td>2</td>\n",
       "      <td>3</td>\n",
       "      <td>4</td>\n",
       "      <td>5</td>\n",
       "      <td>6</td>\n",
       "      <td>Somewhat favorably</td>\n",
       "      <td>Somewhat favorably</td>\n",
       "      <td>Somewhat favorably</td>\n",
       "      <td>Somewhat favorably</td>\n",
       "      <td>Somewhat favorably</td>\n",
       "      <td>Unfamiliar (N/A)</td>\n",
       "      <td>Unfamiliar (N/A)</td>\n",
       "      <td>Unfamiliar (N/A)</td>\n",
       "      <td>Unfamiliar (N/A)</td>\n",
       "      <td>Unfamiliar (N/A)</td>\n",
       "      <td>Unfamiliar (N/A)</td>\n",
       "      <td>Unfamiliar (N/A)</td>\n",
       "      <td>Unfamiliar (N/A)</td>\n",
       "      <td>Unfamiliar (N/A)</td>\n",
       "      <td>False</td>\n",
       "      <td>Male</td>\n",
       "      <td>West North Central</td>\n",
       "    </tr>\n",
       "    <tr>\n",
       "      <th>4</th>\n",
       "      <td>3.292763e+09</td>\n",
       "      <td>True</td>\n",
       "      <td>5</td>\n",
       "      <td>6</td>\n",
       "      <td>1</td>\n",
       "      <td>2</td>\n",
       "      <td>4</td>\n",
       "      <td>3</td>\n",
       "      <td>Very favorably</td>\n",
       "      <td>Very favorably</td>\n",
       "      <td>Very favorably</td>\n",
       "      <td>Very favorably</td>\n",
       "      <td>Very favorably</td>\n",
       "      <td>Somewhat favorably</td>\n",
       "      <td>Very favorably</td>\n",
       "      <td>Somewhat favorably</td>\n",
       "      <td>Somewhat unfavorably</td>\n",
       "      <td>Very favorably</td>\n",
       "      <td>Very favorably</td>\n",
       "      <td>Very favorably</td>\n",
       "      <td>Very favorably</td>\n",
       "      <td>Very favorably</td>\n",
       "      <td>True</td>\n",
       "      <td>Male</td>\n",
       "      <td>West North Central</td>\n",
       "    </tr>\n",
       "    <tr>\n",
       "      <th>5</th>\n",
       "      <td>3.292731e+09</td>\n",
       "      <td>True</td>\n",
       "      <td>5</td>\n",
       "      <td>4</td>\n",
       "      <td>6</td>\n",
       "      <td>2</td>\n",
       "      <td>1</td>\n",
       "      <td>3</td>\n",
       "      <td>Very favorably</td>\n",
       "      <td>Somewhat favorably</td>\n",
       "      <td>Somewhat favorably</td>\n",
       "      <td>Somewhat unfavorably</td>\n",
       "      <td>Very favorably</td>\n",
       "      <td>Very unfavorably</td>\n",
       "      <td>Somewhat favorably</td>\n",
       "      <td>Neither favorably nor unfavorably (neutral)</td>\n",
       "      <td>Very favorably</td>\n",
       "      <td>Somewhat favorably</td>\n",
       "      <td>Somewhat favorably</td>\n",
       "      <td>Very unfavorably</td>\n",
       "      <td>Somewhat favorably</td>\n",
       "      <td>Somewhat favorably</td>\n",
       "      <td>False</td>\n",
       "      <td>Male</td>\n",
       "      <td>West North Central</td>\n",
       "    </tr>\n",
       "  </tbody>\n",
       "</table>\n",
       "</div>"
      ],
      "text/plain": [
       "   RespondentID Star Wars fan Rank the episodes from 1 (best) to 6 (worst). 1  \\\n",
       "1  3.292880e+09          True                                               3   \n",
       "2  3.292880e+09           NaN                                             NaN   \n",
       "3  3.292765e+09         False                                               1   \n",
       "4  3.292763e+09          True                                               5   \n",
       "5  3.292731e+09          True                                               5   \n",
       "\n",
       "     2    3    4    5    6 Your view about the following characters: Han Solo  \\\n",
       "1    2    1    4    5    6                                     Very favorably   \n",
       "2  NaN  NaN  NaN  NaN  NaN                                                NaN   \n",
       "3    2    3    4    5    6                                 Somewhat favorably   \n",
       "4    6    1    2    4    3                                     Very favorably   \n",
       "5    4    6    2    1    3                                     Very favorably   \n",
       "\n",
       "       Luke Skywalker Princess Leia Organa      Anakin Skywalker  \\\n",
       "1      Very favorably       Very favorably        Very favorably   \n",
       "2                 NaN                  NaN                   NaN   \n",
       "3  Somewhat favorably   Somewhat favorably    Somewhat favorably   \n",
       "4      Very favorably       Very favorably        Very favorably   \n",
       "5  Somewhat favorably   Somewhat favorably  Somewhat unfavorably   \n",
       "\n",
       "       Obi Wan Kenobi   Emperor Palpatine         Darth Vader  \\\n",
       "1      Very favorably      Very favorably      Very favorably   \n",
       "2                 NaN                 NaN                 NaN   \n",
       "3  Somewhat favorably    Unfamiliar (N/A)    Unfamiliar (N/A)   \n",
       "4      Very favorably  Somewhat favorably      Very favorably   \n",
       "5      Very favorably    Very unfavorably  Somewhat favorably   \n",
       "\n",
       "                              Lando Calrissian             Boba Fett  \\\n",
       "1                             Unfamiliar (N/A)      Unfamiliar (N/A)   \n",
       "2                                          NaN                   NaN   \n",
       "3                             Unfamiliar (N/A)      Unfamiliar (N/A)   \n",
       "4                           Somewhat favorably  Somewhat unfavorably   \n",
       "5  Neither favorably nor unfavorably (neutral)        Very favorably   \n",
       "\n",
       "                C-3P0               R2 D2     Jar Jar Binks  \\\n",
       "1      Very favorably      Very favorably    Very favorably   \n",
       "2                 NaN                 NaN               NaN   \n",
       "3    Unfamiliar (N/A)    Unfamiliar (N/A)  Unfamiliar (N/A)   \n",
       "4      Very favorably      Very favorably    Very favorably   \n",
       "5  Somewhat favorably  Somewhat favorably  Very unfavorably   \n",
       "\n",
       "        Padme Amidala                Yoda Star Trek fan Gender  \\\n",
       "1      Very favorably      Very favorably         False   Male   \n",
       "2                 NaN                 NaN          True   Male   \n",
       "3    Unfamiliar (N/A)    Unfamiliar (N/A)         False   Male   \n",
       "4      Very favorably      Very favorably          True   Male   \n",
       "5  Somewhat favorably  Somewhat favorably         False   Male   \n",
       "\n",
       "  Location (Census Region)  \n",
       "1           South Atlantic  \n",
       "2       West South Central  \n",
       "3       West North Central  \n",
       "4       West North Central  \n",
       "5       West North Central  "
      ]
     },
     "execution_count": 21,
     "metadata": {},
     "output_type": "execute_result"
    }
   ],
   "source": [
    "star_wars.head()"
   ]
  },
  {
   "cell_type": "markdown",
   "metadata": {},
   "source": [
    "---\n",
    "# Question 1. Among the Star Wars and Star Trek franchise, which has more balance between fans gender?"
   ]
  },
  {
   "cell_type": "markdown",
   "metadata": {},
   "source": [
    "Counting the percentage of star wars fans by gender"
   ]
  },
  {
   "cell_type": "code",
   "execution_count": 22,
   "metadata": {},
   "outputs": [
    {
     "data": {
      "text/plain": [
       "Male      0.560074\n",
       "Female    0.439926\n",
       "Name: Gender, dtype: float64"
      ]
     },
     "execution_count": 22,
     "metadata": {},
     "output_type": "execute_result"
    }
   ],
   "source": [
    "star_wars.loc[star_wars['Star Wars fan']==True, 'Gender'].value_counts(normalize=True)"
   ]
  },
  {
   "cell_type": "code",
   "execution_count": 23,
   "metadata": {},
   "outputs": [
    {
     "data": {
      "text/plain": [
       "Male      0.55792\n",
       "Female    0.44208\n",
       "Name: Gender, dtype: float64"
      ]
     },
     "execution_count": 23,
     "metadata": {},
     "output_type": "execute_result"
    }
   ],
   "source": [
    "star_wars.loc[star_wars['Star Trek fan']==True, 'Gender'].value_counts(normalize=True)"
   ]
  },
  {
   "cell_type": "markdown",
   "metadata": {},
   "source": [
    "We can see that the gender gap between the fans of the two franchises is almost similar. The Star Trek frquania is a little more balanced among the genre of fans."
   ]
  },
  {
   "cell_type": "markdown",
   "metadata": {},
   "source": [
    "# Question 2. Rank favorite episodes according to the opinion of users.\n",
    "\n",
    "Let's plot a bar chart with the favorite episodes according to the users' votes."
   ]
  },
  {
   "cell_type": "code",
   "execution_count": 24,
   "metadata": {},
   "outputs": [
    {
     "data": {
      "image/png": "[encoded data removed]",
      "text/plain": [
       "<Figure size 576x360 with 1 Axes>"
      ]
     },
     "metadata": {
      "needs_background": "light"
     },
     "output_type": "display_data"
    }
   ],
   "source": [
    "plt.figure(figsize=(8,5))\n",
    "sns.set(font_scale=1.4)\n",
    "gr=sns.barplot(x=[f'Episode {i}' for i in range(1,7)], \\\n",
    "               y=star_wars['Rank the episodes from 1 (best) to 6 (worst). 1'].value_counts().sort_index())\n",
    "gr.set(xlabel='', ylabel='')\n",
    "gr.set_xticklabels(gr.get_xticklabels(), rotation=45)\n",
    "plt.title('Votes for favorite episode', fontsize=20)\n",
    "gr.grid(False)\n",
    "gr.tick_params(labelleft=False)\n",
    "gr.set_ylim([0,270])\n",
    "for p in gr.patches:  \n",
    "    gr.annotate(format(p.get_height(), '.0f'), \n",
    "                   (p.get_x() + p.get_width() / 2., p.get_height()), \n",
    "                   ha = 'center', va = 'center', \n",
    "                   xytext = (0, 9), \n",
    "                   textcoords = 'offset points')\n",
    "plt.show()"
   ]
  },
  {
   "cell_type": "markdown",
   "metadata": {},
   "source": [
    "Episode 4 was the most cited favorite among fans."
   ]
  },
  {
   "cell_type": "markdown",
   "metadata": {},
   "source": [
    "---\n",
    "## Question 3. \n",
    "    a) Which character do respondents like the most?\n",
    "    b) Which character do respondents dislike the most?\n",
    "    c) Which character is the most controversial (split between likes and dislikes)?"
   ]
  },
  {
   "cell_type": "code",
   "execution_count": 25,
   "metadata": {},
   "outputs": [
    {
     "data": {
      "image/png": "[encoded data removed]",
      "text/plain": [
       "<Figure size 2304x2304 with 14 Axes>"
      ]
     },
     "metadata": {},
     "output_type": "display_data"
    }
   ],
   "source": [
    "fig = plt.figure(figsize=(32,32))\n",
    "ax = fig.add_subplot(4,4,1)\n",
    "# sns.set(font_scale=2)\n",
    "options = ['Very favorably', 'Somewhat favorably', 'Neutral', 'Unfamiliar (N/A)', 'Somewhat unfavorably', 'Very unfavorably']\n",
    "ax = sns.barplot(x=options, y=star_wars['Your view about the following characters: Han Solo'].value_counts(), )\n",
    "ax.tick_params(labelbottom=False, labelleft=False)\n",
    "ax.set(xlabel='', ylabel='')\n",
    "plt.title('Han Solo', fontsize=30)\n",
    "ax.set_ylim([0,650])\n",
    "ax.grid(False)\n",
    "\n",
    "colors = sns.color_palette()\n",
    "leg_patch = [mpatches.Patch(color=colors[i], label=options[i]) for i in range(6)]\n",
    "ax.legend(handles=leg_patch, ncol=6, bbox_to_anchor=(2.26, 1.2), loc='center', fontsize='x-large')\n",
    "for p in ax.patches:  \n",
    "    ax.annotate(format(p.get_height(), '.0f'), \n",
    "                   (p.get_x() + p.get_width() / 2., p.get_height()), \n",
    "                   ha = 'center', va = 'center', \n",
    "                   xytext = (0, 9), \n",
    "                   textcoords = 'offset points')\n",
    "############################################################################################################################\n",
    "    \n",
    "for i in range(2,star_wars.loc[:,'Luke Skywalker':'Yoda'].shape[1]+2):\n",
    "    ax = fig.add_subplot(4,4,i)\n",
    "    ax = sns.barplot(x=options, y=star_wars.loc[:,'Luke Skywalker':'Yoda'].iloc[:,i-2].value_counts())\n",
    "    ax.grid(False)\n",
    "    plt.title(star_wars.loc[:,'Luke Skywalker':'Yoda'].columns[i-2], fontsize=30)\n",
    "    ax.set_ylim([0,650])\n",
    "    ax.set(xlabel='', ylabel='')\n",
    "    ax.tick_params(labelbottom=False, labelleft=False)\n",
    "    for p in ax.patches:  \n",
    "        ax.annotate(format(p.get_height(), '.0f'), \n",
    "                       (p.get_x() + p.get_width() / 2., p.get_height()), \n",
    "                       ha = 'center', va = 'center', \n",
    "                       xytext = (0, 9), \n",
    "                       textcoords = 'offset points')\n",
    "\n",
    "plt.show()"
   ]
  },
  {
   "cell_type": "markdown",
   "metadata": {},
   "source": [
    "Answers:\n",
    "\n",
    "Han Solo is the most beloved character in the series followed by Yoda and Obi Wan Kenobi. In general, all characters are rated highly. Jar Jar Binks is the least beloved and controversial character in the series. He proportionally received all types of opinions. Emperor Palpatine is also not highly rated."
   ]
  },
  {
   "cell_type": "markdown",
   "metadata": {},
   "source": [
    "---\n",
    "## Question 4. Which region has the most fans who prefer Episode 1 over the rest?"
   ]
  },
  {
   "cell_type": "code",
   "execution_count": 26,
   "metadata": {},
   "outputs": [
    {
     "data": {
      "text/plain": [
       "Index(['RespondentID', 'Star Wars fan',\n",
       "       'Rank the episodes from 1 (best) to 6 (worst). 1', '2', '3', '4', '5',\n",
       "       '6', 'Your view about the following characters: Han Solo',\n",
       "       'Luke Skywalker', 'Princess Leia Organa', 'Anakin Skywalker',\n",
       "       'Obi Wan Kenobi', 'Emperor Palpatine', 'Darth Vader',\n",
       "       'Lando Calrissian', 'Boba Fett', 'C-3P0', 'R2 D2', 'Jar Jar Binks',\n",
       "       'Padme Amidala', 'Yoda', 'Star Trek fan', 'Gender',\n",
       "       'Location (Census Region)'],\n",
       "      dtype='object')"
      ]
     },
     "execution_count": 26,
     "metadata": {},
     "output_type": "execute_result"
    }
   ],
   "source": [
    "star_wars.columns"
   ]
  },
  {
   "cell_type": "code",
   "execution_count": 27,
   "metadata": {},
   "outputs": [],
   "source": [
    "ep_1_fans = star_wars[star_wars['Rank the episodes from 1 (best) to 6 (worst). 1']=='1'].copy()"
   ]
  },
  {
   "cell_type": "code",
   "execution_count": 28,
   "metadata": {},
   "outputs": [
    {
     "data": {
      "text/plain": [
       "Pacific               26\n",
       "East North Central    21\n",
       "South Atlantic        18\n",
       "West South Central    16\n",
       "West North Central    13\n",
       "Middle Atlantic       12\n",
       "Mountain              11\n",
       "New England            4\n",
       "East South Central     2\n",
       "Name: Location (Census Region), dtype: int64"
      ]
     },
     "execution_count": 28,
     "metadata": {},
     "output_type": "execute_result"
    }
   ],
   "source": [
    "ep_1_fans['Location (Census Region)'].value_counts()"
   ]
  },
  {
   "cell_type": "markdown",
   "metadata": {},
   "source": [
    "In Pacific region there are mor fans who prefer Episode 1 over the rest."
   ]
  }
 ],
 "metadata": {
  "kernelspec": {
   "display_name": "Python 3",
   "language": "python",
   "name": "python3"
  },
  "language_info": {
   "codemirror_mode": {
    "name": "ipython",
    "version": 3
   },
   "file_extension": ".py",
   "mimetype": "text/x-python",
   "name": "python",
   "nbconvert_exporter": "python",
   "pygments_lexer": "ipython3",
   "version": "3.8.3"
  }
 },
 "nbformat": 4,
 "nbformat_minor": 4
}
